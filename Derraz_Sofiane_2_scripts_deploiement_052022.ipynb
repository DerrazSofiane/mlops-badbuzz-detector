{
 "cells": [
  {
   "cell_type": "markdown",
   "id": "2ef5eb2c",
   "metadata": {
    "toc": true
   },
   "source": [
    "<h1>Table des matières<span class=\"tocSkip\"></span></h1>\n",
    "<div class=\"toc\"><ul class=\"toc-item\"><li><span><a href=\"#Import-des-librairies\" data-toc-modified-id=\"Import-des-librairies-1\"><span class=\"toc-item-num\">1&nbsp;&nbsp;</span>Import des librairies</a></span></li><li><span><a href=\"#Importation-des-clés\" data-toc-modified-id=\"Importation-des-clés-2\"><span class=\"toc-item-num\">2&nbsp;&nbsp;</span>Importation des clés</a></span></li><li><span><a href=\"#Enregistrement-du-modèle\" data-toc-modified-id=\"Enregistrement-du-modèle-3\"><span class=\"toc-item-num\">3&nbsp;&nbsp;</span>Enregistrement du modèle</a></span></li><li><span><a href=\"#Déploiment\" data-toc-modified-id=\"Déploiment-4\"><span class=\"toc-item-num\">4&nbsp;&nbsp;</span>Déploiment</a></span></li><li><span><a href=\"#Démonstration-d'utilisation-du-modèle\" data-toc-modified-id=\"Démonstration-d'utilisation-du-modèle-5\"><span class=\"toc-item-num\">5&nbsp;&nbsp;</span>Démonstration d'utilisation du modèle</a></span></li></ul></div>"
   ]
  },
  {
   "cell_type": "markdown",
   "id": "b1aeafd4",
   "metadata": {},
   "source": [
    "Ce notebook montre comment déployer un modèle sur le cloud d'Azure et comment l'utiliser pour effectuer des prédictions."
   ]
  },
  {
   "cell_type": "markdown",
   "id": "47778079",
   "metadata": {},
   "source": [
    "# Import des librairies"
   ]
  },
  {
   "cell_type": "markdown",
   "id": "3981140c",
   "metadata": {},
   "source": [
    "https://ml.azure.com/"
   ]
  },
  {
   "cell_type": "code",
   "execution_count": 1,
   "id": "b6dc24b6",
   "metadata": {},
   "outputs": [
    {
     "data": {
      "text/plain": [
       "True"
      ]
     },
     "execution_count": 1,
     "metadata": {},
     "output_type": "execute_result"
    }
   ],
   "source": [
    "from azureml.core import Model\n",
    "from azureml.core import Workspace, Environment\n",
    "from azureml.core.authentication import InteractiveLoginAuthentication\n",
    "from azureml.core.environment import Environment\n",
    "from azureml.core.model import InferenceConfig\n",
    "from azureml.core.webservice import AciWebservice\n",
    "\n",
    "import os\n",
    "import requests\n",
    "import json\n",
    "from dotenv import load_dotenv\n",
    "\n",
    "load_dotenv()"
   ]
  },
  {
   "cell_type": "markdown",
   "id": "5037c6a8",
   "metadata": {},
   "source": [
    "source : https://docs.microsoft.com/en-us/azure/machine-learning/how-to-deploy-and-where?tabs=python"
   ]
  },
  {
   "cell_type": "markdown",
   "id": "61b47d00",
   "metadata": {},
   "source": [
    "# Importation des clés"
   ]
  },
  {
   "cell_type": "code",
   "execution_count": 2,
   "id": "25429235",
   "metadata": {},
   "outputs": [],
   "source": [
    "# On charge dans un premier temps les clés permettant de se connecter\n",
    "# à l'espace de travail.\n",
    "tenant_id = os.getenv(\"YOUR_ML_WORKSPACE_TENANT_ID\")\n",
    "subscription_id = os.getenv(\"YOUR_ML_WORKSPACE_SUBSCRIPTION_ID\")\n",
    "resource_group = os.getenv(\"YOUR_ML_WORKSPACE_RESOURCE_GROUP\")\n",
    "workspace_name = os.getenv(\"YOUR_ML_WORKSPACE_WORKSPACE_NAME\")"
   ]
  },
  {
   "cell_type": "markdown",
   "id": "e98b571c",
   "metadata": {},
   "source": [
    "# Enregistrement du modèle"
   ]
  },
  {
   "cell_type": "code",
   "execution_count": null,
   "id": "4cbe3049",
   "metadata": {},
   "outputs": [],
   "source": [
    "def register_model(model_path,\n",
    "                   model_name,\n",
    "                   description):\n",
    "\n",
    "    # On va ensuite être renvoyé vers une page d'identification\n",
    "    # pour valider l'authentification.\n",
    "    ia = InteractiveLoginAuthentication(tenant_id=tenant_id)\n",
    "    \n",
    "    # Instantiation de l'espace de travail\n",
    "    ws = Workspace.get(name=workspace_name,\n",
    "                       subscription_id=subscription_id,\n",
    "                       resource_group=resource_group,\n",
    "                       auth=ia)\n",
    "\n",
    "    # Enregistrement du modèle sur le cloud\n",
    "    model = Model.register(workspace=ws,\n",
    "                           model_path=model_path,\n",
    "                           model_name=model_name,\n",
    "                           description=description)\n",
    "    return model"
   ]
  },
  {
   "cell_type": "code",
   "execution_count": 4,
   "id": "e028ebf3",
   "metadata": {},
   "outputs": [
    {
     "name": "stdout",
     "output_type": "stream",
     "text": [
      "Registering model lstm_glove_hyperopt\n"
     ]
    }
   ],
   "source": [
    "model_path = 'data/clean'\n",
    "model_name = 'lstm_glove_hyperopt'\n",
    "description = 'Modèle avancé - Analyse Sentiment - LSTM + GloVe'\n",
    "\n",
    "model = register_model(model_path, model_name, description)"
   ]
  },
  {
   "cell_type": "markdown",
   "id": "77b19feb",
   "metadata": {},
   "source": [
    "# Déploiment"
   ]
  },
  {
   "cell_type": "code",
   "execution_count": null,
   "id": "983b79d0",
   "metadata": {},
   "outputs": [],
   "source": [
    "def deploy_model(env_name: str, packages: list):\n",
    "\n",
    "    # On installe toutes librairies requises au fonctionnement de la pipeline\n",
    "    myenv = Environment(env_name)\n",
    "\n",
    "    for package in packages:\n",
    "        myenv.python.conda_dependencies.add_pip_package(package)\n",
    "\n",
    "    # Script de la pipeline permettant de retourner les scores de prédiction\n",
    "    inference_config = InferenceConfig(environment=myenv,\n",
    "                                       entry_script='score.py')\n",
    "\n",
    "    # Configuration de la machine virtuelle\n",
    "    deployment_config = AciWebservice.deploy_configuration(cpu_cores=0.5,\n",
    "                                                           memory_gb=1)\n",
    "\n",
    "    # Déploiement du modèle\n",
    "    service = Model.deploy(workspace=ws,\n",
    "                           name='tweet-sentiment-service',\n",
    "                           models=[model],\n",
    "                           inference_config=inference_config,\n",
    "                           deployment_config=deployment_config)\n",
    "\n",
    "    service.wait_for_deployment(show_output=True)\n",
    "\n",
    "    # Verbose\n",
    "    print(service.state)\n",
    "    \n",
    "    return service"
   ]
  },
  {
   "cell_type": "code",
   "execution_count": 8,
   "id": "bdc123c8",
   "metadata": {
    "scrolled": false
   },
   "outputs": [
    {
     "name": "stdout",
     "output_type": "stream",
     "text": [
      "Tips: You can try get_logs(): https://aka.ms/debugimage#dockerlog or local deployment: https://aka.ms/debugimage#debug-locally to debug if deployment takes longer than 10 minutes.\n",
      "Running\n",
      "2022-05-15 11:04:52+02:00 Creating Container Registry if not exists.\n",
      "2022-05-15 11:04:52+02:00 Registering the environment.\n",
      "2022-05-15 11:04:55+02:00 Building image..\n",
      "2022-05-15 11:10:24+02:00 Generating deployment configuration..\n",
      "2022-05-15 11:10:27+02:00 Submitting deployment to compute..\n",
      "2022-05-15 11:10:32+02:00 Checking the status of deployment tweet-sentiment-service..\n",
      "2022-05-15 11:12:41+02:00 Checking the status of inference endpoint tweet-sentiment-service.\n",
      "Succeeded\n",
      "ACI service creation operation finished, operation \"Succeeded\"\n",
      "Healthy\n"
     ]
    }
   ],
   "source": [
    "packages = [\n",
    "    \"pickle5\",\n",
    "    \"tensorflow\",\n",
    "    \"azureml-core\",\n",
    "    \"contractions\",\n",
    "    \"nltk\"]\n",
    "\n",
    "service = deploy_model(\"modelavance\", packages)"
   ]
  },
  {
   "cell_type": "code",
   "execution_count": null,
   "id": "578b46e6",
   "metadata": {},
   "outputs": [],
   "source": [
    "# print(service.get_logs())"
   ]
  },
  {
   "cell_type": "markdown",
   "id": "3c0a4c6b",
   "metadata": {},
   "source": [
    "# Démonstration d'utilisation du modèle"
   ]
  },
  {
   "cell_type": "code",
   "execution_count": 12,
   "id": "152a52d4",
   "metadata": {},
   "outputs": [
    {
     "name": "stdout",
     "output_type": "stream",
     "text": [
      "Status :  200\n",
      "Tweet :  She was in love\n",
      "Label :  Positif\n",
      "Score :  0.9991021156311035\n",
      "Temps :  0.08948421478271484\n"
     ]
    }
   ],
   "source": [
    "rest_endpoint = 'http://c66cd70a-ae16-4871-a864-caa59264ead0.westeurope.azurecontainer.io/score'\n",
    "headers = {'Content-Type': 'application/json'}\n",
    "\n",
    "# Provide a text example\n",
    "data = json.dumps({'text': 'She was in love'})\n",
    "\n",
    "# Call with POST request\n",
    "response = requests.post(rest_endpoint, data=data, headers=headers)\n",
    "\n",
    "# Print result\n",
    "print('Status : ', response.status_code)\n",
    "print('Tweet : ', (json.loads(data)).get('text'))\n",
    "print('Label : ', (response.json()).get('Label'))\n",
    "print('Score : ', (response.json()).get('Score'))\n",
    "print('Temps : ', (response.json()).get('Temps'))"
   ]
  },
  {
   "cell_type": "code",
   "execution_count": 13,
   "id": "86111449",
   "metadata": {},
   "outputs": [
    {
     "name": "stdout",
     "output_type": "stream",
     "text": [
      "No service with name tweet-sentiment-service found to delete.\n"
     ]
    }
   ],
   "source": [
    "service.delete()\n",
    "model.delete()"
   ]
  },
  {
   "cell_type": "code",
   "execution_count": null,
   "id": "815dbd6f",
   "metadata": {},
   "outputs": [],
   "source": []
  }
 ],
 "metadata": {
  "kernelspec": {
   "display_name": "Python 3 (ipykernel)",
   "language": "python",
   "name": "python3"
  },
  "language_info": {
   "codemirror_mode": {
    "name": "ipython",
    "version": 3
   },
   "file_extension": ".py",
   "mimetype": "text/x-python",
   "name": "python",
   "nbconvert_exporter": "python",
   "pygments_lexer": "ipython3",
   "version": "3.9.7"
  },
  "toc": {
   "base_numbering": 1,
   "nav_menu": {},
   "number_sections": true,
   "sideBar": true,
   "skip_h1_title": false,
   "title_cell": "Table des matières",
   "title_sidebar": "Contents",
   "toc_cell": true,
   "toc_position": {},
   "toc_section_display": true,
   "toc_window_display": true
  }
 },
 "nbformat": 4,
 "nbformat_minor": 5
}
